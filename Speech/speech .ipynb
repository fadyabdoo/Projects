{
 "cells": [
  {
   "cell_type": "code",
   "execution_count": 11,
   "id": "ae361fc8",
   "metadata": {},
   "outputs": [],
   "source": [
    "import pyttsx3\n",
    "import PyPDF2"
   ]
  },
  {
   "cell_type": "code",
   "execution_count": 12,
   "id": "7b0c5826",
   "metadata": {},
   "outputs": [],
   "source": [
    "book = open('2_b_r_0_2_b.pdf' , 'rb')"
   ]
  },
  {
   "cell_type": "code",
   "execution_count": 13,
   "id": "81cfda7e",
   "metadata": {},
   "outputs": [],
   "source": [
    "pdfReader = PyPDF2.PdfFileReader(book)\n"
   ]
  },
  {
   "cell_type": "code",
   "execution_count": 14,
   "id": "cd0acfae",
   "metadata": {},
   "outputs": [],
   "source": [
    "pages = pdfReader.numPages"
   ]
  },
  {
   "cell_type": "code",
   "execution_count": 15,
   "id": "e2a5cb22",
   "metadata": {},
   "outputs": [
    {
     "name": "stdout",
     "output_type": "stream",
     "text": [
      "9\n"
     ]
    }
   ],
   "source": [
    "print(pages)"
   ]
  },
  {
   "cell_type": "code",
   "execution_count": 16,
   "id": "40e7cf12",
   "metadata": {},
   "outputs": [],
   "source": [
    "speaker = pyttsx3.init()\n"
   ]
  },
  {
   "cell_type": "code",
   "execution_count": null,
   "id": "e48d383f",
   "metadata": {},
   "outputs": [],
   "source": [
    "for i in range(pages):\n",
    "    page = pdfReader.getPage(i)\n",
    "    text = page.extractText()\n",
    "    speaker.say(text)\n",
    "    speaker.runAndWait()\n"
   ]
  },
  {
   "cell_type": "code",
   "execution_count": null,
   "id": "56c25c6d",
   "metadata": {},
   "outputs": [],
   "source": []
  }
 ],
 "metadata": {
  "kernelspec": {
   "display_name": "Python 3 (ipykernel)",
   "language": "python",
   "name": "python3"
  },
  "language_info": {
   "codemirror_mode": {
    "name": "ipython",
    "version": 3
   },
   "file_extension": ".py",
   "mimetype": "text/x-python",
   "name": "python",
   "nbconvert_exporter": "python",
   "pygments_lexer": "ipython3",
   "version": "3.9.12"
  }
 },
 "nbformat": 4,
 "nbformat_minor": 5
}
